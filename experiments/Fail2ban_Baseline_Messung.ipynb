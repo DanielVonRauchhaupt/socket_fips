{
 "cells": [
  {
   "cell_type": "markdown",
   "metadata": {},
   "source": []
  },
  {
   "cell_type": "code",
   "execution_count": null,
   "metadata": {},
   "outputs": [],
   "source": [
    "import pandas as pd\n",
    "import matplotlib.pyplot as plt\n",
    "import re\n",
    "from matplotlib import rc, rcParams"
   ]
  },
  {
   "cell_type": "code",
   "execution_count": 2,
   "metadata": {},
   "outputs": [
    {
     "data": {
      "text/plain": [
       "'hellotherethisisastring'"
      ]
     },
     "execution_count": 2,
     "metadata": {},
     "output_type": "execute_result"
    }
   ],
   "source": [
    "files = ['/home/paulr/Uni/BA/bachelorarbeit/experiments/dns_w50_nw5000k_c254.csv',\n",
    "         '/home/paulr/Uni/BA/bachelorarbeit/experiments/dns_w50k_nw1000k_c50.csv',\n",
    "         '/home/paulr/Uni/BA/bachelorarbeit/experiments/dns_w50k_nw1000k_c254.csv',\n",
    "         '/home/paulr/Uni/BA/bachelorarbeit/experiments/dns_w50k_nw5000k_c50.csv'\n",
    "        ]"
   ]
  },
  {
   "cell_type": "code",
   "execution_count": null,
   "metadata": {},
   "outputs": [],
   "source": [
    "dns_50_1000_254 = pd.read_csv('dns_50_1000_254_correct.csv')\n",
    "dns_50_5000_254 = pd.read_csv('dns_50_5000_254_correct.csv')\n",
    "dns_50_1000_50 = pd.read_csv('dns_50_1000_50_correct.csv')\n",
    "dns_50_5000_50 = pd.read_csv('dns_50_5000_50_correct.csv')\n",
    "\n",
    "http_50_100 = pd.read_csv('ebpfstats_2022-11-30_18-49-34_TCP_50_100.csv',sep=';')\n",
    "http_50_1000 = pd.read_csv('ebpfstats_2022-11-30_18-49-34_TCP_50_1000.csv',sep=';')\n",
    "http_1000_1000 = pd.read_csv('ebpfstats_2022-11-30_00-20-07_TCP_1000_1000.csv',sep=';')\n",
    "\n",
    "udp_10_50_254 = pd.read_csv('ebpfstats_2022-11-30_20-01-30_UDP_10_50_254.csv',sep=';')\n",
    "udp_10_50_50 = pd.read_csv('ebpfstats_2022-11-30_20-01-30_UDP_10_50_50.csv',sep=';')\n",
    "\n",
    "dns_drop_50_1000_254 = dns_50_1000_254[dns_50_1000_254['XDP_action  '] == 'XDP_DROP    ']\n",
    "dns_pass_50_1000_254 = dns_50_1000_254[dns_50_1000_254['XDP_action  '] == 'XDP_PASS    ']\n",
    "dns_drop_50_5000_254 = dns_50_5000_254[dns_50_5000_254['XDP_action  '] == 'XDP_DROP    ']\n",
    "dns_pass_50_5000_254 = dns_50_5000_254[dns_50_5000_254['XDP_action  '] == 'XDP_PASS    ']\n",
    "dns_drop_50_1000_50 = dns_50_1000_50[dns_50_1000_50['XDP_action  '] == 'XDP_DROP    ']\n",
    "dns_pass_50_1000_50 = dns_50_1000_50[dns_50_1000_50['XDP_action  '] == 'XDP_PASS    ']\n",
    "dns_drop_50_5000_50 = dns_50_5000_50[dns_50_5000_50['XDP_action  '] == 'XDP_DROP    ']\n",
    "dns_pass_50_5000_50 = dns_50_5000_50[dns_50_5000_50['XDP_action  '] == 'XDP_PASS    ']\n",
    "\n",
    "\n",
    "http_drop_50_100 = http_50_100[http_50_100['XDP_action'] == 'XDP_DROP']\n",
    "http_pass_50_100 = http_50_100[http_50_100['XDP_action'] == 'XDP_PASS']\n",
    "http_drop_50_1000 = http_50_1000[http_50_1000['XDP_action'] == 'XDP_DROP']\n",
    "http_pass_50_1000 = http_50_1000[http_50_1000['XDP_action'] == 'XDP_PASS']\n",
    "http_drop_1000_1000 = http_1000_1000[http_1000_1000['XDP_action'] == 'XDP_DROP']\n",
    "http_pass_1000_1000 = http_1000_1000[http_1000_1000['XDP_action'] == 'XDP_PASS']\n",
    "\n",
    "udp_drop_10_50_254 = udp_10_50_254[udp_10_50_254['XDP_action'] == 'XDP_DROP']\n",
    "udp_pass_10_50_254 = udp_10_50_254[udp_10_50_254['XDP_action'] == 'XDP_PASS']\n",
    "udp_drop_10_50_50 = udp_10_50_50[udp_10_50_50['XDP_action'] == 'XDP_DROP']\n",
    "udp_pass_10_50_50 = udp_10_50_50[udp_10_50_50['XDP_action'] == 'XDP_PASS']"
   ]
  },
  {
   "cell_type": "code",
   "execution_count": null,
   "metadata": {},
   "outputs": [],
   "source": [
    "fig = plt.figure()\n",
    "fig.set_figwidth(20)\n",
    "fig.set_figheight(12)\n",
    "f_size=20\n",
    "rc('text', usetex=True)\n",
    "rc('axes', linewidth=1)\n",
    "rc('font', weight='bold')\n",
    "rc('xtick', labelsize=f_size) \n",
    "rc('ytick', labelsize=f_size) \n",
    "\n",
    "plt.plot(dns_pass_50_1000_254['time     '],dns_pass_50_1000_254['packets/sec       '],label=r'\\textbf{Pass}',linewidth=2)\n",
    "plt.plot(dns_pass_50_1000_254['time     '],dns_drop_50_1000_254['packets/sec       '],label=r'\\textbf{Drop}',linewidth=2)\n",
    "\n",
    "plt.legend(fontsize=f_size)\n",
    "plt.xlabel(r'\\textbf{Time [Seconds]}',fontsize=f_size)\n",
    "plt.ylabel(r'\\textbf{Pakets per second}',fontsize=f_size)\n",
    "plt.title(r'\\textbf{DNS: 50k Valid pps, 1000k Invalid pps, 508 clients}',fontsize=f_size)\n",
    "plt.grid(axis='y')\n",
    "plt.savefig('dns_50_1000_254.png')\n",
    "plt.show()"
   ]
  },
  {
   "cell_type": "code",
   "execution_count": null,
   "metadata": {},
   "outputs": [],
   "source": [
    "fig = plt.figure()\n",
    "fig.set_figwidth(20)\n",
    "fig.set_figheight(12)\n",
    "f_size=20\n",
    "rc('text', usetex=True)\n",
    "rc('axes', linewidth=1)\n",
    "rc('font', weight='bold')\n",
    "rc('xtick', labelsize=f_size) \n",
    "rc('ytick', labelsize=f_size)\n",
    "\n",
    "plt.plot(dns_pass_50_5000_254['time     '],dns_pass_50_5000_254['packets/sec       '],label=r'\\textbf{Pass}',linewidth=2)\n",
    "plt.plot(dns_pass_50_5000_254['time     '],dns_drop_50_5000_254['packets/sec       '],label=r'\\textbf{Drop}',linewidth=2)\n",
    "\n",
    "plt.legend(fontsize=f_size)\n",
    "plt.xlabel(r'\\textbf{Time [Seconds]}',fontsize=f_size)\n",
    "plt.ylabel(r'\\textbf{Pakets per Seconds}',fontsize=f_size)\n",
    "plt.title(r'\\textbf{DNS: 50k valid pps, 5000k invalid pps, 508 clients}',fontsize=f_size)\n",
    "plt.grid(axis='y')\n",
    "plt.savefig('dns_50_5000_254.png')\n",
    "plt.show()\n"
   ]
  },
  {
   "cell_type": "code",
   "execution_count": null,
   "metadata": {},
   "outputs": [],
   "source": [
    "fig = plt.figure()\n",
    "fig.set_figwidth(20)\n",
    "fig.set_figheight(12)\n",
    "f_size=20\n",
    "rc('text', usetex=True)\n",
    "rc('axes', linewidth=1)\n",
    "rc('font', weight='bold')\n",
    "rc('xtick', labelsize=f_size) \n",
    "rc('ytick', labelsize=f_size)\n",
    "\n",
    "plt.plot(dns_pass_50_1000_50['time '],dns_pass_50_1000_50['packets/sec       '],label=r'\\textbf{Pass}',linewidth=2)\n",
    "plt.plot(dns_pass_50_1000_50['time '],dns_drop_50_1000_50['packets/sec       '],label=r'\\textbf{Drop}',linewidth=2)\n",
    "\n",
    "plt.legend(fontsize=f_size)\n",
    "plt.xlabel(r'\\textbf{Time [Seconds]}',fontsize=f_size)\n",
    "plt.ylabel(r'\\textbf{Pakets per Seconds}',fontsize=f_size)\n",
    "plt.title(r'\\textbf{DNS: 50k valid pps, 1000k invalid pps, 100 clients}',fontsize=f_size)\n",
    "plt.grid(axis='y')\n",
    "plt.savefig('dns_50_1000_50.png')\n",
    "plt.show()"
   ]
  },
  {
   "cell_type": "code",
   "execution_count": null,
   "metadata": {},
   "outputs": [],
   "source": [
    "fig = plt.figure()\n",
    "fig.set_figwidth(20)\n",
    "fig.set_figheight(12)\n",
    "f_size=20\n",
    "rc('text', usetex=True)\n",
    "rc('axes', linewidth=1)\n",
    "rc('font', weight='bold')\n",
    "rc('xtick', labelsize=f_size) \n",
    "rc('ytick', labelsize=f_size)\n",
    "\n",
    "plt.plot(dns_pass_50_5000_50['time     '],dns_pass_50_5000_50['packets/sec       '],label=r'\\textbf{Pass}',linewidth=2)\n",
    "plt.plot(dns_pass_50_5000_50['time     '],dns_drop_50_5000_50['packets/sec       '],label=r'\\textbf{Drop}',linewidth=2)\n",
    "\n",
    "plt.legend(fontsize=f_size)\n",
    "plt.xlabel(r'\\textbf{Time [Seconds]}',fontsize=f_size)\n",
    "plt.ylabel(r'\\textbf{Pakets per Second}',fontsize=f_size)\n",
    "plt.title(r'\\textbf{DNS: 50k valid pps, 5000k invalid pps, 100 clients}',fontsize=f_size)\n",
    "plt.grid(axis='y')\n",
    "plt.savefig('dns_50_5000_50.png')\n",
    "plt.show()"
   ]
  },
  {
   "cell_type": "code",
   "execution_count": null,
   "metadata": {},
   "outputs": [],
   "source": [
    "fig = plt.figure()\n",
    "fig.set_figwidth(20)\n",
    "fig.set_figheight(12)\n",
    "f_size=20\n",
    "rc('text', usetex=True)\n",
    "rc('axes', linewidth=1)\n",
    "rc('font', weight='bold')\n",
    "rc('xtick', labelsize=f_size) \n",
    "rc('ytick', labelsize=f_size)\n",
    "\n",
    "plt.plot(http_pass_50_100['time'],http_pass_50_100['packets/sec'],label=r'\\textbf{Pass}',linewidth=2)\n",
    "plt.plot(http_pass_50_100['time'],http_drop_50_100['packets/sec'],label=r'\\textbf{Drop}',linewidth=2)\n",
    "\n",
    "plt.legend(fontsize=f_size)\n",
    "plt.xlabel(r'\\textbf{Time [Seconds]}',fontsize=f_size)\n",
    "plt.ylabel(r'\\textbf{Pakets per Second}',fontsize=f_size)\n",
    "plt.title(r'\\textbf{HTTP: 50k valid cps, 100k invalid cps, 40 clients}',fontsize=f_size)\n",
    "plt.grid(axis='y')\n",
    "plt.savefig('http_50_100.png')\n",
    "plt.show()"
   ]
  },
  {
   "cell_type": "code",
   "execution_count": null,
   "metadata": {},
   "outputs": [],
   "source": [
    "fig = plt.figure()\n",
    "fig.set_figwidth(20)\n",
    "fig.set_figheight(12)\n",
    "f_size=20\n",
    "rc('text', usetex=True)\n",
    "rc('axes', linewidth=1)\n",
    "rc('font', weight='bold')\n",
    "rc('xtick', labelsize=f_size) \n",
    "rc('ytick', labelsize=f_size)\n",
    "\n",
    "plt.plot(http_pass_50_1000['time'],http_pass_50_1000['packets/sec'],label=r'\\textbf{Pass}',linewidth=2)\n",
    "plt.plot(http_pass_50_1000['time'],http_drop_50_1000['packets/sec'],label=r'\\textbf{Drop}',linewidth=2)\n",
    "\n",
    "plt.legend(fontsize=f_size)\n",
    "plt.xlabel(r'\\textbf{Time [Seconds]}',fontsize=f_size)\n",
    "plt.ylabel(r'\\textbf{Pakets per Second}',fontsize=f_size)\n",
    "plt.title(r'\\textbf{HTTP: 50k valid cps, 1000k invalid cps, 40 clients}',fontsize=f_size)\n",
    "plt.grid(axis='y')\n",
    "plt.savefig('http_50_1000.png')\n",
    "plt.show()"
   ]
  },
  {
   "cell_type": "code",
   "execution_count": null,
   "metadata": {},
   "outputs": [],
   "source": [
    "fig = plt.figure()\n",
    "fig.set_figwidth(20)\n",
    "fig.set_figheight(12)\n",
    "f_size=20\n",
    "rc('text', usetex=True)\n",
    "rc('axes', linewidth=1)\n",
    "rc('font', weight='bold')\n",
    "rc('xtick', labelsize=f_size) \n",
    "rc('ytick', labelsize=f_size)\n",
    "\n",
    "plt.plot(http_pass_1000_1000['time'],http_pass_1000_1000['packets/sec'],label=r'\\textbf{Pass}',linewidth=2)\n",
    "plt.plot(http_pass_1000_1000['time'],http_drop_1000_1000['packets/sec'],label=r'\\textbf{Drop}',linewidth=2)\n",
    "\n",
    "plt.legend(fontsize=f_size)\n",
    "plt.xlabel(r'\\textbf{Time [Seconds]}',fontsize=f_size)\n",
    "plt.ylabel(r'\\textbf{Pakets per Second}',fontsize=f_size)\n",
    "plt.title(r'\\textbf{HTTP: 1000k valid cps, 1000k invalid cps, 30 clients}',fontsize=f_size)\n",
    "plt.grid(axis='y')\n",
    "plt.savefig('http_1000_1000.png')\n",
    "plt.show()"
   ]
  },
  {
   "cell_type": "code",
   "execution_count": null,
   "metadata": {},
   "outputs": [],
   "source": [
    "fig = plt.figure()\n",
    "fig.set_figwidth(20)\n",
    "fig.set_figheight(12)\n",
    "f_size=20\n",
    "rc('text', usetex=True)\n",
    "rc('axes', linewidth=1)\n",
    "rc('font', weight='bold')\n",
    "rc('xtick', labelsize=f_size) \n",
    "rc('ytick', labelsize=f_size)\n",
    "\n",
    "plt.plot(udp_pass_10_50_254['time'],udp_pass_10_50_254['packets/sec'],label=r'\\textbf{Pass}',linewidth=2)\n",
    "plt.plot(udp_pass_10_50_254['time'],udp_drop_10_50_254['packets/sec'],label=r'\\textbf{Drop}',linewidth=2)\n",
    "\n",
    "plt.legend(fontsize=f_size)\n",
    "plt.xlabel(r'\\textbf{Time [Seconds]}',fontsize=f_size)\n",
    "plt.ylabel(r'\\textbf{Pakets per Second}',fontsize=f_size)\n",
    "plt.title(r'\\textbf{Raw UDP: 10k valid pps, 50k invalid pps, 508 clients}',fontsize=f_size)\n",
    "plt.grid(axis='y')\n",
    "plt.savefig('udp_10_50_254.png')\n",
    "plt.show()"
   ]
  },
  {
   "cell_type": "code",
   "execution_count": null,
   "metadata": {},
   "outputs": [],
   "source": [
    "fig = plt.figure()\n",
    "fig.set_figwidth(20)\n",
    "fig.set_figheight(12)\n",
    "f_size=20\n",
    "rc('text', usetex=True)\n",
    "rc('axes', linewidth=1)\n",
    "rc('font', weight='bold')\n",
    "rc('xtick', labelsize=f_size) \n",
    "rc('ytick', labelsize=f_size)\n",
    "\n",
    "plt.plot(udp_pass_10_50_50['time'],udp_pass_10_50_50['packets/sec'],label=r'\\textbf{Pass}',linewidth=2)\n",
    "plt.plot(udp_pass_10_50_50['time'],udp_drop_10_50_50['packets/sec'],label=r'\\textbf{Drop}',linewidth=2)\n",
    "\n",
    "plt.legend(fontsize=f_size)\n",
    "plt.xlabel(r'\\textbf{Time [Seconds]',fontsize=f_size)\n",
    "plt.ylabel(r'\\textbf{Pakets per Second}',fontsize=f_size)\n",
    "plt.title(r'\\textbf{Raw UDP: 10k valid pps, 50k invalid pps, 100 clients}',fontsize=f_size)\n",
    "plt.grid(axis='y')\n",
    "plt.savefig('udp_10_50_50.png')\n",
    "plt.show()"
   ]
  },
  {
   "cell_type": "code",
   "execution_count": null,
   "metadata": {},
   "outputs": [],
   "source": [
    "def repair_csv(infile,outfile):\n",
    "    with open(infile,'r') as file:\n",
    "        new_lines = []\n",
    "        lines = file.readlines()\n",
    "\n",
    "        for line in lines:\n",
    "            new_lines.append(re.sub(r'([0-9]),([0-9])',r'\\1\\2',line))\n",
    "\n",
    "        with open(outfile,'w') as out:\n",
    "            for line in new_lines:\n",
    "                out.write(line)\n",
    "    \n",
    "\n",
    "\n"
   ]
  }
 ],
 "metadata": {
  "kernelspec": {
   "display_name": "Python 3",
   "language": "python",
   "name": "python3"
  },
  "language_info": {
   "codemirror_mode": {
    "name": "ipython",
    "version": 3
   },
   "file_extension": ".py",
   "mimetype": "text/x-python",
   "name": "python",
   "nbconvert_exporter": "python",
   "pygments_lexer": "ipython3",
   "version": "3.11.1"
  },
  "orig_nbformat": 4,
  "vscode": {
   "interpreter": {
    "hash": "1a1af0ee75eeea9e2e1ee996c87e7a2b11a0bebd85af04bb136d915cefc0abce"
   }
  }
 },
 "nbformat": 4,
 "nbformat_minor": 2
}
