{
 "cells": [
  {
   "cell_type": "code",
   "execution_count": 1,
   "metadata": {},
   "outputs": [],
   "source": [
    "import pandas as pd\n",
    "import matplotlib.pyplot as plt\n",
    "import re\n",
    "from matplotlib import rc, rcParams\n",
    "from dataclasses import dataclass"
   ]
  },
  {
   "cell_type": "code",
   "execution_count": 2,
   "metadata": {},
   "outputs": [],
   "source": [
    "# v = valid traffic, iv = invalid traffic, c = clients, r = readers, or = overwrite, shm = shared memory, disk = logfile, ws = workload stealing\n",
    "# nr = no regex matching,  \n",
    "\n",
    "@dataclass\n",
    "class Params:\n",
    "    title : str\n",
    "    ppsv : str\n",
    "    ppsi : str\n",
    "    clients : str\n",
    "\n",
    "paths_fail2ban = {\n",
    "            'fail2ban_v10k_iv10k_c1016.csv' : Params('Fail2ban',\"10k\",\"10k\",\"1016\"),\n",
    "            'fail2ban_v50k_iv1m_c254.csv' : Params('Fail2ban',\"10k\",\"1m\",\"254\"),\n",
    "            }\n",
    "\n",
    "paths_simplefail2ban_socket = {\n",
    "            'ebpfstats_2024-05-29_02-45-53.csv' : Params('Socket, IPv4', \"10k\", \"10k\", \"254\"),\n",
    "            'ebpfstats_2024-05-29_02-54-07.csv' : Params('Socket, IPv4', \"10k\", \"1m\", \"254\"),\n",
    "            'ebpfstats_2024-05-29_03-07-01.csv' : Params('Socket, IPv4 - Rerun', \"10k\", \"1m\", \"254\")\n",
    "}\n",
    "\n",
    "def make_time_graph(paths):\n",
    "\n",
    "    for path, params in paths.items():\n",
    "\n",
    "        df = pd.read_csv(path,sep=';')\n",
    "\n",
    "        df_drop = df[df['XDP_action'] == 'XDP_DROP']\n",
    "        df_pass = df[df['XDP_action'] == 'XDP_PASS']\n",
    "\n",
    "        fig = plt.figure()\n",
    "        fig.set_figwidth(20)\n",
    "        fig.set_figheight(12)\n",
    "        f_size=25\n",
    "        rc('text', usetex=True)\n",
    "        rc('axes', linewidth=1)\n",
    "        rc('font', weight='bold')\n",
    "        rc('xtick', labelsize=f_size) \n",
    "        rc('ytick', labelsize=f_size) \n",
    "\n",
    "        plt.plot(df_pass['time'][::5],df_drop['packets/sec'][::5],label=r'\\textbf{Drop}',linewidth=2,color='#ff7f0e')\n",
    "        plt.plot(df_pass['time'][::5],df_pass['packets/sec'][::5],label=r'\\textbf{Pass}',linewidth=2,color='#1f77b4')\n",
    "        \n",
    "\n",
    "        title = f'{params.title}: {params.ppsv} wanted PPS, {params.ppsi} unwanted PPS, {params.clients} clients'\n",
    "\n",
    "        plt.legend(fontsize=f_size, loc='upper right')\n",
    "        plt.xlabel(r'\\textbf{Time [Seconds]}',fontsize=f_size)\n",
    "        plt.ylabel(r'\\textbf{Pakets per second}',fontsize=f_size)\n",
    "        plt.title(rf'\\textbf{{{title}}}',fontsize=f_size)\n",
    "        plt.grid(axis='y')\n",
    "        plt.savefig(path.replace('.csv','.png'))\n"
   ]
  },
  {
   "cell_type": "code",
   "execution_count": null,
   "metadata": {},
   "outputs": [],
   "source": [
    "make_time_graph(paths_simplefail2ban_socket)"
   ]
  },
  {
   "cell_type": "code",
   "execution_count": null,
   "metadata": {},
   "outputs": [],
   "source": []
  }
 ],
 "metadata": {
  "kernelspec": {
   "display_name": "Python 3",
   "language": "python",
   "name": "python3"
  },
  "language_info": {
   "codemirror_mode": {
    "name": "ipython",
    "version": 3
   },
   "file_extension": ".py",
   "mimetype": "text/x-python",
   "name": "python",
   "nbconvert_exporter": "python",
   "pygments_lexer": "ipython3",
   "version": "3.7.6"
  }
 },
 "nbformat": 4,
 "nbformat_minor": 4
}
